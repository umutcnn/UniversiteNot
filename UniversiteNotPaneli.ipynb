{
 "cells": [
  {
   "cell_type": "code",
   "execution_count": 16,
   "id": "1ea2851f",
   "metadata": {},
   "outputs": [
    {
     "data": {
      "text/plain": [
       "' \\nders_adlari = []\\n\\ndef adet_degerlendirme():\\n    degerlendirmeler = []\\n    adet = int(input(\"kaç adet değerlendirme: \"))\\n    for i in range(1,adet+1):\\n        print(str(i)+\".değerlendirme\")\\n        degerlendirme = input(\"Değerlendirme ismi:\")\\n        agirlik_yuzdesi = int(input(\"Ağırlık yüzdesi:\"))\\n        degerlendirmeler.append([degerlendirme,agirlik_yuzdesi])\\n    return degerlendirmeler\\n\\ndef ogrenci_adet():\\n    adetler = adet_degerlendirme()\\n    ogr_liste = []\\n    ogr_degerlendirme_liste = []\\n    while(True):\\n        ogr_sayi = int(input(\"Öğrenci sayısı:\"))\\n        if(ogr_sayi>20 ):\\n            print(\"öğrenci sayisi 20 den büyük olmamali\")\\n            print(\"Sana bir şans daha veriyorum iyi değerlendir :) 5 ten kücük girme\")\\n        if(ogr_sayi<4):\\n            print(\"öğrenci sayisi 5 ten küçük olmamali\")\\n            print(\"Sana bir şans daha veriyorum iyi değerlendir :) 20 den büyük girme\")\\n        else:  \\n            for i in range(1,ogr_sayi+1):\\n                print(str(i)+\".öğrenci\")\\n                ogr_num = int(input(\"Öğrenci No:\"))\\n                ogr_adi = input(\"Öğrenci adı:\")\\n                ogr_liste.append([ogr_num,ogr_adi])\\n                ogr_degerlendirme_liste.append(ogr_liste,adetler)                                       \\n    return ogr_liste\\n\\ndef ogrenci_listele():\\n    ogr_liste=[]\\n    ogrSayi=0\\n    for ogr in ogr_liste:\\n        numara,ad=ogr.split()[0],ogr.split()[1]\\n        ogrSayi=ogrSayi+1\\n        print(\"{0}. öğrenci\\'nin numarası {1} , adı {2} \".format(ogrSayi,numara,ad))\\n    \\n    \\n    \\n#def ogrenci_not_atama():\\n      \\nfor i in range(0,girilcek_ders_sayisi):\\n    ders_adi = input(\"Ders Adı:\")\\n    ders_adlari.append(ders_adi)\\n    adet_degerlendirme()\\n    ogrenci_adet() '"
      ]
     },
     "execution_count": 16,
     "metadata": {},
     "output_type": "execute_result"
    }
   ],
   "source": [
    "from models import Bolum, Ders, Degerlendirme\n",
    "\n",
    "\n",
    "class Main:\n",
    "\n",
    "    bolum :Bolum \n",
    "\n",
    "    def bolum_gir(self):\n",
    "        bolum_adi = input(\"Bölüm Adı:\")\n",
    "        self.bolum = Bolum(bolum_adi, [])\n",
    "        self.ders_gir()\n",
    "\n",
    "    def ders_gir(self):\n",
    "        girilcek_ders_sayisi = int(input(\"Ders Sayısı:\"))\n",
    "        for i in range(0,girilcek_ders_sayisi):\n",
    "            ders_adi = input(\"Ders Adı:\")\n",
    "            ders = Ders(ders_adi, [])\n",
    "            self.bolum.dersler.append(ders)\n",
    "            self.degerlendirme_gir(ders)\n",
    "\n",
    "    def degerlendirme_gir(self, ders: Ders):\n",
    "        adet = int(input(\"kaç adet değerlendirme: \"))\n",
    "        for i in range(0, adet):\n",
    "            degerlendirme = input(\"Değerlendirme ismi:\")\n",
    "            agirlik_yuzdesi = int(input(\"Ağırlık yüzdesi:\"))\n",
    "            ders.degerlendirmeler.append(Degerlendirme(degerlendirme, agirlik_yuzdesi))\n",
    "\n",
    "    def ogrenci_gir(self, ders:Ders):\n",
    "        ...\n",
    "\n",
    "main = Main()\n",
    "main.bolum_gir()\n",
    "\"\"\" \n",
    "ders_adlari = []\n",
    "\n",
    "def adet_degerlendirme():\n",
    "    degerlendirmeler = []\n",
    "    adet = int(input(\"kaç adet değerlendirme: \"))\n",
    "    for i in range(1,adet+1):\n",
    "        print(str(i)+\".değerlendirme\")\n",
    "        degerlendirme = input(\"Değerlendirme ismi:\")\n",
    "        agirlik_yuzdesi = int(input(\"Ağırlık yüzdesi:\"))\n",
    "        degerlendirmeler.append([degerlendirme,agirlik_yuzdesi])\n",
    "    return degerlendirmeler\n",
    "\n",
    "def ogrenci_adet():\n",
    "    adetler = adet_degerlendirme()\n",
    "    ogr_liste = []\n",
    "    ogr_degerlendirme_liste = []\n",
    "    while(True):\n",
    "        ogr_sayi = int(input(\"Öğrenci sayısı:\"))\n",
    "        if(ogr_sayi>20 ):\n",
    "            print(\"öğrenci sayisi 20 den büyük olmamali\")\n",
    "            print(\"Sana bir şans daha veriyorum iyi değerlendir :) 5 ten kücük girme\")\n",
    "        if(ogr_sayi<4):\n",
    "            print(\"öğrenci sayisi 5 ten küçük olmamali\")\n",
    "            print(\"Sana bir şans daha veriyorum iyi değerlendir :) 20 den büyük girme\")\n",
    "        else:  \n",
    "            for i in range(1,ogr_sayi+1):\n",
    "                print(str(i)+\".öğrenci\")\n",
    "                ogr_num = int(input(\"Öğrenci No:\"))\n",
    "                ogr_adi = input(\"Öğrenci adı:\")\n",
    "                ogr_liste.append([ogr_num,ogr_adi])\n",
    "                ogr_degerlendirme_liste.append(ogr_liste,adetler)                                       \n",
    "    return ogr_liste\n",
    "\n",
    "def ogrenci_listele():\n",
    "    ogr_liste=[]\n",
    "    ogrSayi=0\n",
    "    for ogr in ogr_liste:\n",
    "        numara,ad=ogr.split()[0],ogr.split()[1]\n",
    "        ogrSayi=ogrSayi+1\n",
    "        print(\"{0}. öğrenci'nin numarası {1} , adı {2} \".format(ogrSayi,numara,ad))\n",
    "    \n",
    "    \n",
    "    \n",
    "#def ogrenci_not_atama():\n",
    "      \n",
    "for i in range(0,girilcek_ders_sayisi):\n",
    "    ders_adi = input(\"Ders Adı:\")\n",
    "    ders_adlari.append(ders_adi)\n",
    "    adet_degerlendirme()\n",
    "    ogrenci_adet() \"\"\""
   ]
  }
 ],
 "metadata": {
  "interpreter": {
   "hash": "b0fa6594d8f4cbf19f97940f81e996739fb7646882a419484c72d19e05852a7e"
  },
  "kernelspec": {
   "display_name": "Python 3.9.12 64-bit",
   "language": "python",
   "name": "python3"
  },
  "language_info": {
   "codemirror_mode": {
    "name": "ipython",
    "version": 3
   },
   "file_extension": ".py",
   "mimetype": "text/x-python",
   "name": "python",
   "nbconvert_exporter": "python",
   "pygments_lexer": "ipython3",
   "version": "3.9.12"
  }
 },
 "nbformat": 4,
 "nbformat_minor": 5
}
