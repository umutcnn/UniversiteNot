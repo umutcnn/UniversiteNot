{
 "cells": [
  {
   "cell_type": "code",
   "execution_count": null,
   "id": "1ea2851f",
   "metadata": {},
   "outputs": [],
   "source": [
    "bolum_adi = input(\"Bölüm Adı:\")\n",
    "girilcek_ders_sayisi = int(input(\"Ders Sayısı:\"))\n",
    "ders_adlari = []\n",
    "\n",
    "def adet_degerlendirme():\n",
    "    degerlendirmeler = []\n",
    "    adet = int(input(\"kaç adet değerlendirme\"))\n",
    "    for i in range(0,adet):\n",
    "        print(str(i)+\".değerlendirme\")\n",
    "        degerlendirme = input(\"Değerlendirme ismi:\")\n",
    "        agirlik_yuzdesi = int(input(\"Ağırlık yüzdesi:\"))\n",
    "        degerlendirmeler.append([degerlendirme,agirlik_yuzdesi])\n",
    "    return degerlendirmeler\n",
    "\n",
    "def ogrenci_adet():\n",
    "    adetler = adet_degerlendirme()\n",
    "    ogr_liste = []\n",
    "    ogr_degerlendirme_liste = []\n",
    "    ogr_sayi = int(input(\"Öğrenci sayısı:\"))\n",
    "    if(ogr_sayi>20 or ogr_sayi<5):\n",
    "        print(\"Uyarı\")\n",
    "    else:\n",
    "        for i in range(0,ogr_sayi):\n",
    "            print(str(i)+\".öğrenci\")\n",
    "            ogr_num = int(input(\"Öğrenci No:\"))\n",
    "            ogr_adi = input(\"Öğrenci adı:\")\n",
    "            ogr_liste.append([ogr_num,ogr_adi])\n",
    "            ogr_degerlendirme_liste.append(ogr_liste,adetler)                                       \n",
    "    return ogr_liste\n",
    "def ogrenci_listele():\n",
    "    ogr_liste=[]\n",
    "    ogrSayi=0\n",
    "    for ogr in ogr_liste:\n",
    "        numara,ad=ogr.split()[0],ogr.split()[1]\n",
    "        ogrSayi=ogrSayi+1\n",
    "        print(\"{0}. ogrencinin numaraso {1} , adı {1} \".format(ogrSayi,numara,ad))\n",
    "    \n",
    "    \n",
    "    \n",
    "#def ogrenci_not_atama():\n",
    "      \n",
    "for i in range(0,girilcek_ders_sayisi):\n",
    "    ders_adi = input(\"Ders Adı:\")\n",
    "    ders_adlari.append(ders_adi)\n",
    "    adet_degerlendirme()\n",
    "    ogrenci_adet()"
   ]
  },
  {
   "cell_type": "code",
   "execution_count": null,
   "id": "1a45aa20",
   "metadata": {},
   "outputs": [],
   "source": []
  }
 ],
 "metadata": {
  "kernelspec": {
   "display_name": "Python 3 (ipykernel)",
   "language": "python",
   "name": "python3"
  },
  "language_info": {
   "codemirror_mode": {
    "name": "ipython",
    "version": 3
   },
   "file_extension": ".py",
   "mimetype": "text/x-python",
   "name": "python",
   "nbconvert_exporter": "python",
   "pygments_lexer": "ipython3",
   "version": "3.9.7"
  }
 },
 "nbformat": 4,
 "nbformat_minor": 5
}
